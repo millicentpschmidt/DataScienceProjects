{
  "nbformat": 4,
  "nbformat_minor": 0,
  "metadata": {
    "colab": {
      "name": "Gap-LEAP15.ipynb",
      "provenance": [],
      "collapsed_sections": [
        "uEcS2Faf4itx",
        "n_Zm9ctl16Ol",
        "reRrWZCGUD5O",
        "WWmuoJOMAGUF",
        "qSKTKuAtUnRn"
      ]
    },
    "kernelspec": {
      "name": "python3",
      "display_name": "Python 3"
    }
  },
  "cells": [
    {
      "cell_type": "code",
      "metadata": {
        "id": "qKdl61rT2MLR"
      },
      "source": [
        "# importing libraries\n",
        "import pandas as pd\n",
        "import numpy as np\n",
        "import matplotlib as pt"
      ],
      "execution_count": 1,
      "outputs": []
    },
    {
      "cell_type": "markdown",
      "metadata": {
        "id": "QcXdfAs24Wbi"
      },
      "source": [
        "# Retreiving Files from Google Drive"
      ]
    },
    {
      "cell_type": "code",
      "metadata": {
        "id": "wxNcDTqEkhpC"
      },
      "source": [
        "# Code to read csv file into Colaboratory:\n",
        "!pip install -U -q PyDrive\n",
        "from pydrive.auth import GoogleAuth\n",
        "from pydrive.drive import GoogleDrive\n",
        "from google.colab import auth\n",
        "from oauth2client.client import GoogleCredentials\n",
        "# Authenticate and create the PyDrive client.\n",
        "auth.authenticate_user()\n",
        "gauth = GoogleAuth()\n",
        "gauth.credentials = GoogleCredentials.get_application_default()\n",
        "drive = GoogleDrive(gauth)"
      ],
      "execution_count": 2,
      "outputs": []
    },
    {
      "cell_type": "code",
      "metadata": {
        "id": "tj4w8cMNnR2j"
      },
      "source": [
        "link2015 = 'https://drive.google.com/file/d/1tZrq6knxxNexKWfJxvbfEbkMwzyz_Qku/view?usp=sharing'\n",
        "\n",
        "downloaded = drive.CreateFile({'id':'1tZrq6knxxNexKWfJxvbfEbkMwzyz_Qku'}) \n",
        "downloaded.GetContentFile('2015LEAP-subgroups.csv')  \n",
        "leap15 = pd.read_csv('2015LEAP-subgroups.csv')"
      ],
      "execution_count": 3,
      "outputs": []
    },
    {
      "cell_type": "markdown",
      "metadata": {
        "id": "1uk7j2N-MIf2"
      },
      "source": [
        "# Information about the Data\n",
        "\n",
        "\n",
        "*   Source: [Louisiana Department of Education Data Center](https://www.louisianabelieves.com/resources/library/data-center)\n",
        "*   The LEAP exams are conducted in the late spring for grades 3-8; high school standardized testing are in the form of End of Course exams\n",
        "*   Scores are divided into 5 catergories: Advanced, Mastery, Basic, Approaching Basic, and Unsatisfactory\n",
        "*   The % reported in the dataframe below are the % of total students tested that reach the score category\n",
        "*   The focus on demographic subgroups is a recent development from the state. If data was subdivided by demographic subgroups, that data is not available on the state website.\n",
        "*   Since 2015, the types of subgroups has expanded significantly, but for comparison of the same data across all 5 years, I am using only the subgroups available to all 5 years.\n",
        "\n"
      ]
    },
    {
      "cell_type": "markdown",
      "metadata": {
        "id": "uEcS2Faf4itx"
      },
      "source": [
        "## First look at the dataframe"
      ]
    },
    {
      "cell_type": "code",
      "metadata": {
        "colab": {
          "base_uri": "https://localhost:8080/",
          "height": 326
        },
        "id": "4qPkKFw0qPcN",
        "outputId": "3b6d6e64-b7c1-4b69-f61e-ac583685b89c"
      },
      "source": [
        "leap15.head()"
      ],
      "execution_count": 4,
      "outputs": [
        {
          "output_type": "execute_result",
          "data": {
            "text/html": [
              "<div>\n",
              "<style scoped>\n",
              "    .dataframe tbody tr th:only-of-type {\n",
              "        vertical-align: middle;\n",
              "    }\n",
              "\n",
              "    .dataframe tbody tr th {\n",
              "        vertical-align: top;\n",
              "    }\n",
              "\n",
              "    .dataframe thead th {\n",
              "        text-align: right;\n",
              "    }\n",
              "</style>\n",
              "<table border=\"1\" class=\"dataframe\">\n",
              "  <thead>\n",
              "    <tr style=\"text-align: right;\">\n",
              "      <th></th>\n",
              "      <th>SchoolSystemName</th>\n",
              "      <th>Grade</th>\n",
              "      <th>Subgroup</th>\n",
              "      <th>ELAAdvanced</th>\n",
              "      <th>ELAMastery</th>\n",
              "      <th>ELABasic</th>\n",
              "      <th>ELAApproachingBasic</th>\n",
              "      <th>ELAUnsatisfactory</th>\n",
              "      <th>MathAdvanced</th>\n",
              "      <th>MathMastery</th>\n",
              "      <th>MathBasic</th>\n",
              "      <th>MathApproachingBasic</th>\n",
              "      <th>MathUnsatisfactory</th>\n",
              "    </tr>\n",
              "  </thead>\n",
              "  <tbody>\n",
              "    <tr>\n",
              "      <th>0</th>\n",
              "      <td>Louisiana Statewide</td>\n",
              "      <td>3</td>\n",
              "      <td>American Indian or Alaska Native</td>\n",
              "      <td>≤5</td>\n",
              "      <td>35</td>\n",
              "      <td>30</td>\n",
              "      <td>22</td>\n",
              "      <td>13</td>\n",
              "      <td>≤5</td>\n",
              "      <td>29</td>\n",
              "      <td>36</td>\n",
              "      <td>18</td>\n",
              "      <td>11</td>\n",
              "    </tr>\n",
              "    <tr>\n",
              "      <th>1</th>\n",
              "      <td>Louisiana Statewide</td>\n",
              "      <td>3</td>\n",
              "      <td>Asian</td>\n",
              "      <td>7</td>\n",
              "      <td>51</td>\n",
              "      <td>22</td>\n",
              "      <td>11</td>\n",
              "      <td>9</td>\n",
              "      <td>25</td>\n",
              "      <td>42</td>\n",
              "      <td>21</td>\n",
              "      <td>9</td>\n",
              "      <td>≤5</td>\n",
              "    </tr>\n",
              "    <tr>\n",
              "      <th>2</th>\n",
              "      <td>Louisiana Statewide</td>\n",
              "      <td>3</td>\n",
              "      <td>Black or African American</td>\n",
              "      <td>≤5</td>\n",
              "      <td>24</td>\n",
              "      <td>27</td>\n",
              "      <td>27</td>\n",
              "      <td>22</td>\n",
              "      <td>≤5</td>\n",
              "      <td>22</td>\n",
              "      <td>31</td>\n",
              "      <td>29</td>\n",
              "      <td>16</td>\n",
              "    </tr>\n",
              "    <tr>\n",
              "      <th>3</th>\n",
              "      <td>Louisiana Statewide</td>\n",
              "      <td>3</td>\n",
              "      <td>Economically Disadvantaged</td>\n",
              "      <td>≤5</td>\n",
              "      <td>28</td>\n",
              "      <td>28</td>\n",
              "      <td>24</td>\n",
              "      <td>19</td>\n",
              "      <td>≤5</td>\n",
              "      <td>26</td>\n",
              "      <td>32</td>\n",
              "      <td>26</td>\n",
              "      <td>14</td>\n",
              "    </tr>\n",
              "    <tr>\n",
              "      <th>4</th>\n",
              "      <td>Louisiana Statewide</td>\n",
              "      <td>3</td>\n",
              "      <td>English Learner</td>\n",
              "      <td>≤5</td>\n",
              "      <td>19</td>\n",
              "      <td>23</td>\n",
              "      <td>23</td>\n",
              "      <td>34</td>\n",
              "      <td>≤5</td>\n",
              "      <td>25</td>\n",
              "      <td>30</td>\n",
              "      <td>24</td>\n",
              "      <td>16</td>\n",
              "    </tr>\n",
              "  </tbody>\n",
              "</table>\n",
              "</div>"
            ],
            "text/plain": [
              "      SchoolSystemName  Grade  ...  MathApproachingBasic MathUnsatisfactory\n",
              "0  Louisiana Statewide      3  ...                    18                 11\n",
              "1  Louisiana Statewide      3  ...                     9                 ≤5\n",
              "2  Louisiana Statewide      3  ...                    29                 16\n",
              "3  Louisiana Statewide      3  ...                    26                 14\n",
              "4  Louisiana Statewide      3  ...                    24                 16\n",
              "\n",
              "[5 rows x 13 columns]"
            ]
          },
          "metadata": {
            "tags": []
          },
          "execution_count": 4
        }
      ]
    },
    {
      "cell_type": "code",
      "metadata": {
        "colab": {
          "base_uri": "https://localhost:8080/",
          "height": 297
        },
        "id": "-5f9_vFzqVrv",
        "outputId": "013b38ba-e8b7-4c84-887f-d2ec98543543"
      },
      "source": [
        "leap15.describe()"
      ],
      "execution_count": 5,
      "outputs": [
        {
          "output_type": "execute_result",
          "data": {
            "text/html": [
              "<div>\n",
              "<style scoped>\n",
              "    .dataframe tbody tr th:only-of-type {\n",
              "        vertical-align: middle;\n",
              "    }\n",
              "\n",
              "    .dataframe tbody tr th {\n",
              "        vertical-align: top;\n",
              "    }\n",
              "\n",
              "    .dataframe thead th {\n",
              "        text-align: right;\n",
              "    }\n",
              "</style>\n",
              "<table border=\"1\" class=\"dataframe\">\n",
              "  <thead>\n",
              "    <tr style=\"text-align: right;\">\n",
              "      <th></th>\n",
              "      <th>Grade</th>\n",
              "    </tr>\n",
              "  </thead>\n",
              "  <tbody>\n",
              "    <tr>\n",
              "      <th>count</th>\n",
              "      <td>52328.000000</td>\n",
              "    </tr>\n",
              "    <tr>\n",
              "      <th>mean</th>\n",
              "      <td>5.252446</td>\n",
              "    </tr>\n",
              "    <tr>\n",
              "      <th>std</th>\n",
              "      <td>1.680111</td>\n",
              "    </tr>\n",
              "    <tr>\n",
              "      <th>min</th>\n",
              "      <td>3.000000</td>\n",
              "    </tr>\n",
              "    <tr>\n",
              "      <th>25%</th>\n",
              "      <td>4.000000</td>\n",
              "    </tr>\n",
              "    <tr>\n",
              "      <th>50%</th>\n",
              "      <td>5.000000</td>\n",
              "    </tr>\n",
              "    <tr>\n",
              "      <th>75%</th>\n",
              "      <td>7.000000</td>\n",
              "    </tr>\n",
              "    <tr>\n",
              "      <th>max</th>\n",
              "      <td>8.000000</td>\n",
              "    </tr>\n",
              "  </tbody>\n",
              "</table>\n",
              "</div>"
            ],
            "text/plain": [
              "              Grade\n",
              "count  52328.000000\n",
              "mean       5.252446\n",
              "std        1.680111\n",
              "min        3.000000\n",
              "25%        4.000000\n",
              "50%        5.000000\n",
              "75%        7.000000\n",
              "max        8.000000"
            ]
          },
          "metadata": {
            "tags": []
          },
          "execution_count": 5
        }
      ]
    },
    {
      "cell_type": "markdown",
      "metadata": {
        "id": "OqT-UxI0Qp8g"
      },
      "source": [
        "I originally thought this issue (that the is only one complete numerical columns) was because there were mixed data types (strings and numbers), but after moving on, I realized all the score values are objects rather than numeric data types.\n"
      ]
    },
    {
      "cell_type": "markdown",
      "metadata": {
        "id": "n_Zm9ctl16Ol"
      },
      "source": [
        "# Dealing with \"Missing\" Values\n",
        "This dataset, like most real world data is full of gaps. Every single column contains at least one '<=5' string, making calculations impossible to perform.\n",
        "\n",
        "Options for dealing with this issue:\n",
        "\n",
        "\n",
        "*   Drop all rows with '<=5' strings (this would delete too much data)\n",
        "*   Replace all '<=5' strings with 0 (this will skew the data low)\n",
        "*   Replace all '<=5' strings with 5 (this will skew the data high)\n",
        "*   Replace all '<=5' strings with NaN or None types and have Pandas ignore those types in calculations (this is similar to how Excel treats empty/NA cells; this will skew data high)\n",
        "*   Replace all '<=5' strings with 2.5 (this should not skew the data in one direction over another)\n",
        "*   Same options exists for the >=95 values (but the data would be skewed int he opposite directsion described above)\n"
      ]
    },
    {
      "cell_type": "code",
      "metadata": {
        "id": "Fg405dk6q1jZ"
      },
      "source": [
        "leap15 = leap15.replace(to_replace = '≤5', value = 2.5)\n",
        "leap15 = leap15.replace(to_replace = '≥95', value = 97.5)"
      ],
      "execution_count": 6,
      "outputs": []
    },
    {
      "cell_type": "code",
      "metadata": {
        "colab": {
          "base_uri": "https://localhost:8080/",
          "height": 326
        },
        "id": "pJN0ypuDU3pl",
        "outputId": "c5300df6-5728-48d2-caca-ff734235a2b8"
      },
      "source": [
        "# deleting rows or parish data that did not divide by subgroups (contained NR for all scores instead)\n",
        "leap15.drop(leap15[leap15['ELAAdvanced'] == 'NR'].index, inplace = True)\n",
        "leap15.drop(leap15[leap15['MathAdvanced'] == 'NR'].index, inplace = True)\n",
        "leap15.head()"
      ],
      "execution_count": 7,
      "outputs": [
        {
          "output_type": "execute_result",
          "data": {
            "text/html": [
              "<div>\n",
              "<style scoped>\n",
              "    .dataframe tbody tr th:only-of-type {\n",
              "        vertical-align: middle;\n",
              "    }\n",
              "\n",
              "    .dataframe tbody tr th {\n",
              "        vertical-align: top;\n",
              "    }\n",
              "\n",
              "    .dataframe thead th {\n",
              "        text-align: right;\n",
              "    }\n",
              "</style>\n",
              "<table border=\"1\" class=\"dataframe\">\n",
              "  <thead>\n",
              "    <tr style=\"text-align: right;\">\n",
              "      <th></th>\n",
              "      <th>SchoolSystemName</th>\n",
              "      <th>Grade</th>\n",
              "      <th>Subgroup</th>\n",
              "      <th>ELAAdvanced</th>\n",
              "      <th>ELAMastery</th>\n",
              "      <th>ELABasic</th>\n",
              "      <th>ELAApproachingBasic</th>\n",
              "      <th>ELAUnsatisfactory</th>\n",
              "      <th>MathAdvanced</th>\n",
              "      <th>MathMastery</th>\n",
              "      <th>MathBasic</th>\n",
              "      <th>MathApproachingBasic</th>\n",
              "      <th>MathUnsatisfactory</th>\n",
              "    </tr>\n",
              "  </thead>\n",
              "  <tbody>\n",
              "    <tr>\n",
              "      <th>0</th>\n",
              "      <td>Louisiana Statewide</td>\n",
              "      <td>3</td>\n",
              "      <td>American Indian or Alaska Native</td>\n",
              "      <td>2.5</td>\n",
              "      <td>35</td>\n",
              "      <td>30</td>\n",
              "      <td>22</td>\n",
              "      <td>13</td>\n",
              "      <td>2.5</td>\n",
              "      <td>29</td>\n",
              "      <td>36</td>\n",
              "      <td>18</td>\n",
              "      <td>11</td>\n",
              "    </tr>\n",
              "    <tr>\n",
              "      <th>1</th>\n",
              "      <td>Louisiana Statewide</td>\n",
              "      <td>3</td>\n",
              "      <td>Asian</td>\n",
              "      <td>7</td>\n",
              "      <td>51</td>\n",
              "      <td>22</td>\n",
              "      <td>11</td>\n",
              "      <td>9</td>\n",
              "      <td>25</td>\n",
              "      <td>42</td>\n",
              "      <td>21</td>\n",
              "      <td>9</td>\n",
              "      <td>2.5</td>\n",
              "    </tr>\n",
              "    <tr>\n",
              "      <th>2</th>\n",
              "      <td>Louisiana Statewide</td>\n",
              "      <td>3</td>\n",
              "      <td>Black or African American</td>\n",
              "      <td>2.5</td>\n",
              "      <td>24</td>\n",
              "      <td>27</td>\n",
              "      <td>27</td>\n",
              "      <td>22</td>\n",
              "      <td>2.5</td>\n",
              "      <td>22</td>\n",
              "      <td>31</td>\n",
              "      <td>29</td>\n",
              "      <td>16</td>\n",
              "    </tr>\n",
              "    <tr>\n",
              "      <th>3</th>\n",
              "      <td>Louisiana Statewide</td>\n",
              "      <td>3</td>\n",
              "      <td>Economically Disadvantaged</td>\n",
              "      <td>2.5</td>\n",
              "      <td>28</td>\n",
              "      <td>28</td>\n",
              "      <td>24</td>\n",
              "      <td>19</td>\n",
              "      <td>2.5</td>\n",
              "      <td>26</td>\n",
              "      <td>32</td>\n",
              "      <td>26</td>\n",
              "      <td>14</td>\n",
              "    </tr>\n",
              "    <tr>\n",
              "      <th>4</th>\n",
              "      <td>Louisiana Statewide</td>\n",
              "      <td>3</td>\n",
              "      <td>English Learner</td>\n",
              "      <td>2.5</td>\n",
              "      <td>19</td>\n",
              "      <td>23</td>\n",
              "      <td>23</td>\n",
              "      <td>34</td>\n",
              "      <td>2.5</td>\n",
              "      <td>25</td>\n",
              "      <td>30</td>\n",
              "      <td>24</td>\n",
              "      <td>16</td>\n",
              "    </tr>\n",
              "  </tbody>\n",
              "</table>\n",
              "</div>"
            ],
            "text/plain": [
              "      SchoolSystemName  Grade  ...  MathApproachingBasic MathUnsatisfactory\n",
              "0  Louisiana Statewide      3  ...                    18                 11\n",
              "1  Louisiana Statewide      3  ...                     9                2.5\n",
              "2  Louisiana Statewide      3  ...                    29                 16\n",
              "3  Louisiana Statewide      3  ...                    26                 14\n",
              "4  Louisiana Statewide      3  ...                    24                 16\n",
              "\n",
              "[5 rows x 13 columns]"
            ]
          },
          "metadata": {
            "tags": []
          },
          "execution_count": 7
        }
      ]
    },
    {
      "cell_type": "markdown",
      "metadata": {
        "id": "reRrWZCGUD5O"
      },
      "source": [
        "## Converting score values to numeric data types"
      ]
    },
    {
      "cell_type": "code",
      "metadata": {
        "colab": {
          "base_uri": "https://localhost:8080/"
        },
        "id": "vvDf7PqjVXvC",
        "outputId": "a9b8ad23-8955-486b-d298-490f93c5d587"
      },
      "source": [
        "leap15.info()"
      ],
      "execution_count": 8,
      "outputs": [
        {
          "output_type": "stream",
          "text": [
            "<class 'pandas.core.frame.DataFrame'>\n",
            "Int64Index: 17773 entries, 0 to 52327\n",
            "Data columns (total 13 columns):\n",
            " #   Column                 Non-Null Count  Dtype \n",
            "---  ------                 --------------  ----- \n",
            " 0   SchoolSystemName       17773 non-null  object\n",
            " 1   Grade                  17773 non-null  int64 \n",
            " 2   Subgroup               17773 non-null  object\n",
            " 3   ELAAdvanced            17773 non-null  object\n",
            " 4   ELAMastery             17773 non-null  object\n",
            " 5   ELABasic               17773 non-null  object\n",
            " 6   ELAApproachingBasic    17773 non-null  object\n",
            " 7   ELAUnsatisfactory      17773 non-null  object\n",
            " 8   MathAdvanced           17773 non-null  object\n",
            " 9    MathMastery           17773 non-null  object\n",
            " 10  MathBasic              17773 non-null  object\n",
            " 11   MathApproachingBasic  17773 non-null  object\n",
            " 12  MathUnsatisfactory     17773 non-null  object\n",
            "dtypes: int64(1), object(12)\n",
            "memory usage: 1.9+ MB\n"
          ],
          "name": "stdout"
        }
      ]
    },
    {
      "cell_type": "code",
      "metadata": {
        "id": "WKg7Tm0ie4HX"
      },
      "source": [
        "# there are leading spaces in two of the column headings; this renames those\n",
        "\n",
        "leap15 = leap15.rename(columns = {' MathMastery': 'MathMastery', ' MathApproachingBasic': 'MathApproachingBasic'}, inplace = False)"
      ],
      "execution_count": 9,
      "outputs": []
    },
    {
      "cell_type": "code",
      "metadata": {
        "colab": {
          "base_uri": "https://localhost:8080/"
        },
        "id": "929vNZlqUAyz",
        "outputId": "7cfc6ec6-6000-490d-b9dc-94e51c5c7fa4"
      },
      "source": [
        "# convert all score data to numerica values\n",
        "# groing through one at a time, because I was getting too many errors to do it all at the same time\n",
        "\n",
        "# ELA Scores\n",
        "leap15[\"ELAAdvanced\"] = pd.to_numeric(leap15[\"ELAAdvanced\"])\n",
        "leap15[\"ELAMastery\"] = pd.to_numeric(leap15[\"ELAMastery\"])\n",
        "leap15[\"ELABasic\"] = pd.to_numeric(leap15[\"ELABasic\"])\n",
        "leap15[\"ELAApproachingBasic\"] = pd.to_numeric(leap15[\"ELAApproachingBasic\"])\n",
        "leap15[\"ELAUnsatisfactory\"] = pd.to_numeric(leap15[\"ELAUnsatisfactory\"])\n",
        "\n",
        "# Math Scores\n",
        "leap15[\"MathAdvanced\"] = pd.to_numeric(leap15[\"MathAdvanced\"])\n",
        "leap15[\"MathMastery\"] = pd.to_numeric(leap15[\"MathMastery\"])\n",
        "leap15[\"MathBasic\"] = pd.to_numeric(leap15[\"MathBasic\"])\n",
        "leap15[\"MathApproachingBasic\"] = pd.to_numeric(leap15[\"MathApproachingBasic\"])\n",
        "leap15[\"MathUnsatisfactory\"] = pd.to_numeric(leap15[\"MathUnsatisfactory\"])\n",
        "\n",
        "leap15.info()"
      ],
      "execution_count": 10,
      "outputs": [
        {
          "output_type": "stream",
          "text": [
            "<class 'pandas.core.frame.DataFrame'>\n",
            "Int64Index: 17773 entries, 0 to 52327\n",
            "Data columns (total 13 columns):\n",
            " #   Column                Non-Null Count  Dtype  \n",
            "---  ------                --------------  -----  \n",
            " 0   SchoolSystemName      17773 non-null  object \n",
            " 1   Grade                 17773 non-null  int64  \n",
            " 2   Subgroup              17773 non-null  object \n",
            " 3   ELAAdvanced           17773 non-null  float64\n",
            " 4   ELAMastery            17773 non-null  float64\n",
            " 5   ELABasic              17773 non-null  float64\n",
            " 6   ELAApproachingBasic   17773 non-null  float64\n",
            " 7   ELAUnsatisfactory     17773 non-null  float64\n",
            " 8   MathAdvanced          17773 non-null  float64\n",
            " 9   MathMastery           17773 non-null  float64\n",
            " 10  MathBasic             17773 non-null  float64\n",
            " 11  MathApproachingBasic  17773 non-null  float64\n",
            " 12  MathUnsatisfactory    17773 non-null  float64\n",
            "dtypes: float64(10), int64(1), object(2)\n",
            "memory usage: 1.9+ MB\n"
          ],
          "name": "stdout"
        }
      ]
    },
    {
      "cell_type": "markdown",
      "metadata": {
        "id": "WWmuoJOMAGUF"
      },
      "source": [
        "# Splitting the Data for Anlysis and Graphing\n",
        "\n",
        "No error values are reported for any of the state data so I need to generate some standard deviation values (at a minimum) to do furhter analysis. I'm going to use the statewide data for graphing and analysis of the gap data, so I'll use the \"Total Population\" parish score data to generate standard deviation values for each grade/score."
      ]
    },
    {
      "cell_type": "code",
      "metadata": {
        "colab": {
          "base_uri": "https://localhost:8080/",
          "height": 309
        },
        "id": "VQpyarIg6662",
        "outputId": "2e1f2ac9-80da-409c-8f6f-e61c2c3d6360"
      },
      "source": [
        "# Separate out Statewide data for analysis of gaps later\n",
        "leap15st = leap15[leap15[\"SchoolSystemName\"] == 'Louisiana Statewide']\n",
        "\n",
        "# want to get parish data only to generate standard deviations to use for statewide data\n",
        "leap15p = leap15[leap15[\"SchoolSystemName\"] != 'Louisiana Statewide']\n",
        "\n",
        "# isolate the total populations from each parish\n",
        "leap15p = leap15p[leap15p['Subgroup']==\"Total Population\"]\n",
        "leap15p.head()"
      ],
      "execution_count": 11,
      "outputs": [
        {
          "output_type": "execute_result",
          "data": {
            "text/html": [
              "<div>\n",
              "<style scoped>\n",
              "    .dataframe tbody tr th:only-of-type {\n",
              "        vertical-align: middle;\n",
              "    }\n",
              "\n",
              "    .dataframe tbody tr th {\n",
              "        vertical-align: top;\n",
              "    }\n",
              "\n",
              "    .dataframe thead th {\n",
              "        text-align: right;\n",
              "    }\n",
              "</style>\n",
              "<table border=\"1\" class=\"dataframe\">\n",
              "  <thead>\n",
              "    <tr style=\"text-align: right;\">\n",
              "      <th></th>\n",
              "      <th>SchoolSystemName</th>\n",
              "      <th>Grade</th>\n",
              "      <th>Subgroup</th>\n",
              "      <th>ELAAdvanced</th>\n",
              "      <th>ELAMastery</th>\n",
              "      <th>ELABasic</th>\n",
              "      <th>ELAApproachingBasic</th>\n",
              "      <th>ELAUnsatisfactory</th>\n",
              "      <th>MathAdvanced</th>\n",
              "      <th>MathMastery</th>\n",
              "      <th>MathBasic</th>\n",
              "      <th>MathApproachingBasic</th>\n",
              "      <th>MathUnsatisfactory</th>\n",
              "    </tr>\n",
              "  </thead>\n",
              "  <tbody>\n",
              "    <tr>\n",
              "      <th>74</th>\n",
              "      <td>Acadia Parish</td>\n",
              "      <td>3</td>\n",
              "      <td>Total Population</td>\n",
              "      <td>2.5</td>\n",
              "      <td>37.0</td>\n",
              "      <td>27.0</td>\n",
              "      <td>18.0</td>\n",
              "      <td>15.0</td>\n",
              "      <td>6.0</td>\n",
              "      <td>37.0</td>\n",
              "      <td>33.0</td>\n",
              "      <td>17.0</td>\n",
              "      <td>8.0</td>\n",
              "    </tr>\n",
              "    <tr>\n",
              "      <th>85</th>\n",
              "      <td>Acadia Parish</td>\n",
              "      <td>4</td>\n",
              "      <td>Total Population</td>\n",
              "      <td>2.5</td>\n",
              "      <td>36.0</td>\n",
              "      <td>36.0</td>\n",
              "      <td>20.0</td>\n",
              "      <td>2.5</td>\n",
              "      <td>2.5</td>\n",
              "      <td>41.0</td>\n",
              "      <td>33.0</td>\n",
              "      <td>19.0</td>\n",
              "      <td>6.0</td>\n",
              "    </tr>\n",
              "    <tr>\n",
              "      <th>96</th>\n",
              "      <td>Acadia Parish</td>\n",
              "      <td>5</td>\n",
              "      <td>Total Population</td>\n",
              "      <td>2.5</td>\n",
              "      <td>33.0</td>\n",
              "      <td>39.0</td>\n",
              "      <td>22.0</td>\n",
              "      <td>2.5</td>\n",
              "      <td>2.5</td>\n",
              "      <td>31.0</td>\n",
              "      <td>38.0</td>\n",
              "      <td>24.0</td>\n",
              "      <td>2.5</td>\n",
              "    </tr>\n",
              "    <tr>\n",
              "      <th>107</th>\n",
              "      <td>Acadia Parish</td>\n",
              "      <td>6</td>\n",
              "      <td>Total Population</td>\n",
              "      <td>2.5</td>\n",
              "      <td>40.0</td>\n",
              "      <td>34.0</td>\n",
              "      <td>17.0</td>\n",
              "      <td>7.0</td>\n",
              "      <td>2.5</td>\n",
              "      <td>25.0</td>\n",
              "      <td>31.0</td>\n",
              "      <td>31.0</td>\n",
              "      <td>11.0</td>\n",
              "    </tr>\n",
              "    <tr>\n",
              "      <th>118</th>\n",
              "      <td>Acadia Parish</td>\n",
              "      <td>7</td>\n",
              "      <td>Total Population</td>\n",
              "      <td>2.5</td>\n",
              "      <td>33.0</td>\n",
              "      <td>28.0</td>\n",
              "      <td>22.0</td>\n",
              "      <td>13.0</td>\n",
              "      <td>2.5</td>\n",
              "      <td>21.0</td>\n",
              "      <td>35.0</td>\n",
              "      <td>29.0</td>\n",
              "      <td>12.0</td>\n",
              "    </tr>\n",
              "  </tbody>\n",
              "</table>\n",
              "</div>"
            ],
            "text/plain": [
              "    SchoolSystemName  Grade  ... MathApproachingBasic  MathUnsatisfactory\n",
              "74     Acadia Parish      3  ...                 17.0                 8.0\n",
              "85     Acadia Parish      4  ...                 19.0                 6.0\n",
              "96     Acadia Parish      5  ...                 24.0                 2.5\n",
              "107    Acadia Parish      6  ...                 31.0                11.0\n",
              "118    Acadia Parish      7  ...                 29.0                12.0\n",
              "\n",
              "[5 rows x 13 columns]"
            ]
          },
          "metadata": {
            "tags": []
          },
          "execution_count": 11
        }
      ]
    },
    {
      "cell_type": "code",
      "metadata": {
        "id": "cKbDccQpIWB_"
      },
      "source": [
        "# need to group by grade then calculate the standard deviation\n",
        "SDleap15p = leap15p.groupby('Grade').std()"
      ],
      "execution_count": 12,
      "outputs": []
    },
    {
      "cell_type": "code",
      "metadata": {
        "colab": {
          "base_uri": "https://localhost:8080/",
          "height": 255
        },
        "id": "3Z-WjG9WQCql",
        "outputId": "28908659-5001-4159-a2fd-f21240d5453e"
      },
      "source": [
        "SDleap15p.head()"
      ],
      "execution_count": 13,
      "outputs": [
        {
          "output_type": "execute_result",
          "data": {
            "text/html": [
              "<div>\n",
              "<style scoped>\n",
              "    .dataframe tbody tr th:only-of-type {\n",
              "        vertical-align: middle;\n",
              "    }\n",
              "\n",
              "    .dataframe tbody tr th {\n",
              "        vertical-align: top;\n",
              "    }\n",
              "\n",
              "    .dataframe thead th {\n",
              "        text-align: right;\n",
              "    }\n",
              "</style>\n",
              "<table border=\"1\" class=\"dataframe\">\n",
              "  <thead>\n",
              "    <tr style=\"text-align: right;\">\n",
              "      <th></th>\n",
              "      <th>ELAAdvanced</th>\n",
              "      <th>ELAMastery</th>\n",
              "      <th>ELABasic</th>\n",
              "      <th>ELAApproachingBasic</th>\n",
              "      <th>ELAUnsatisfactory</th>\n",
              "      <th>MathAdvanced</th>\n",
              "      <th>MathMastery</th>\n",
              "      <th>MathBasic</th>\n",
              "      <th>MathApproachingBasic</th>\n",
              "      <th>MathUnsatisfactory</th>\n",
              "    </tr>\n",
              "    <tr>\n",
              "      <th>Grade</th>\n",
              "      <th></th>\n",
              "      <th></th>\n",
              "      <th></th>\n",
              "      <th></th>\n",
              "      <th></th>\n",
              "      <th></th>\n",
              "      <th></th>\n",
              "      <th></th>\n",
              "      <th></th>\n",
              "      <th></th>\n",
              "    </tr>\n",
              "  </thead>\n",
              "  <tbody>\n",
              "    <tr>\n",
              "      <th>3</th>\n",
              "      <td>3.008429</td>\n",
              "      <td>16.242949</td>\n",
              "      <td>7.904314</td>\n",
              "      <td>9.335843</td>\n",
              "      <td>11.820600</td>\n",
              "      <td>6.375777</td>\n",
              "      <td>14.735579</td>\n",
              "      <td>8.810238</td>\n",
              "      <td>11.089418</td>\n",
              "      <td>10.216365</td>\n",
              "    </tr>\n",
              "    <tr>\n",
              "      <th>4</th>\n",
              "      <td>4.168970</td>\n",
              "      <td>15.931503</td>\n",
              "      <td>9.647656</td>\n",
              "      <td>11.008385</td>\n",
              "      <td>7.432108</td>\n",
              "      <td>3.316135</td>\n",
              "      <td>16.929099</td>\n",
              "      <td>9.396638</td>\n",
              "      <td>13.339846</td>\n",
              "      <td>10.034547</td>\n",
              "    </tr>\n",
              "    <tr>\n",
              "      <th>5</th>\n",
              "      <td>1.363350</td>\n",
              "      <td>15.819229</td>\n",
              "      <td>8.847207</td>\n",
              "      <td>11.901508</td>\n",
              "      <td>7.907821</td>\n",
              "      <td>4.385093</td>\n",
              "      <td>14.083137</td>\n",
              "      <td>9.855825</td>\n",
              "      <td>13.925581</td>\n",
              "      <td>8.547032</td>\n",
              "    </tr>\n",
              "    <tr>\n",
              "      <th>6</th>\n",
              "      <td>2.877673</td>\n",
              "      <td>15.307035</td>\n",
              "      <td>9.290210</td>\n",
              "      <td>10.423483</td>\n",
              "      <td>7.558268</td>\n",
              "      <td>3.582455</td>\n",
              "      <td>14.348834</td>\n",
              "      <td>10.693481</td>\n",
              "      <td>13.745210</td>\n",
              "      <td>9.440353</td>\n",
              "    </tr>\n",
              "    <tr>\n",
              "      <th>7</th>\n",
              "      <td>5.852745</td>\n",
              "      <td>14.039703</td>\n",
              "      <td>9.353775</td>\n",
              "      <td>10.662175</td>\n",
              "      <td>11.803346</td>\n",
              "      <td>3.268219</td>\n",
              "      <td>13.284487</td>\n",
              "      <td>11.054576</td>\n",
              "      <td>12.540709</td>\n",
              "      <td>12.106999</td>\n",
              "    </tr>\n",
              "  </tbody>\n",
              "</table>\n",
              "</div>"
            ],
            "text/plain": [
              "       ELAAdvanced  ELAMastery  ...  MathApproachingBasic  MathUnsatisfactory\n",
              "Grade                           ...                                          \n",
              "3         3.008429   16.242949  ...             11.089418           10.216365\n",
              "4         4.168970   15.931503  ...             13.339846           10.034547\n",
              "5         1.363350   15.819229  ...             13.925581            8.547032\n",
              "6         2.877673   15.307035  ...             13.745210            9.440353\n",
              "7         5.852745   14.039703  ...             12.540709           12.106999\n",
              "\n",
              "[5 rows x 10 columns]"
            ]
          },
          "metadata": {
            "tags": []
          },
          "execution_count": 13
        }
      ]
    },
    {
      "cell_type": "code",
      "metadata": {
        "colab": {
          "base_uri": "https://localhost:8080/"
        },
        "id": "lOENC1EHpUoh",
        "outputId": "9c9015fa-95a0-461a-9ccc-7b21401f9765"
      },
      "source": [
        "SDleap15p[\"ELAMastery\"].mean()   # average Standard deviation for ELA Mastery Scores"
      ],
      "execution_count": 35,
      "outputs": [
        {
          "output_type": "execute_result",
          "data": {
            "text/plain": [
              "15.63317072374688"
            ]
          },
          "metadata": {
            "tags": []
          },
          "execution_count": 35
        }
      ]
    },
    {
      "cell_type": "code",
      "metadata": {
        "colab": {
          "base_uri": "https://localhost:8080/"
        },
        "id": "Bd7MyWlRp-qS",
        "outputId": "8b57a55b-6b5c-43f2-9667-279ef8f5c12a"
      },
      "source": [
        "SDleap15p[\"MathMastery\"].mean()   # average Standard deviation for Math Mastery Scores"
      ],
      "execution_count": 36,
      "outputs": [
        {
          "output_type": "execute_result",
          "data": {
            "text/plain": [
              "14.778510502069645"
            ]
          },
          "metadata": {
            "tags": []
          },
          "execution_count": 36
        }
      ]
    },
    {
      "cell_type": "markdown",
      "metadata": {
        "id": "izH-S-ihohgL"
      },
      "source": [
        "### A note about Error\n",
        "\n",
        "The state provides no information about the spread of the data nor the total number of students in each parish or subcategory, thus making standard error impossible to calculate. While it is interesting to compare the spread of the data for different tests score categories (or for subgroups), the stnadard error would be necessary for plotting and comparison purposes. As a result, I will not be including error bars on the graphs of gap data over time."
      ]
    },
    {
      "cell_type": "markdown",
      "metadata": {
        "id": "T7i8P7o7BNvC"
      },
      "source": [
        "# Preliminary Visializations"
      ]
    },
    {
      "cell_type": "code",
      "metadata": {
        "colab": {
          "base_uri": "https://localhost:8080/"
        },
        "id": "YvU1zn8GHeUd",
        "outputId": "346931ac-ea19-4ff8-c894-c97703dfb554"
      },
      "source": [
        "leap15st.Subgroup.unique()"
      ],
      "execution_count": 14,
      "outputs": [
        {
          "output_type": "execute_result",
          "data": {
            "text/plain": [
              "array(['American Indian or Alaska Native', 'Asian',\n",
              "       'Black or African American', 'Economically Disadvantaged',\n",
              "       'English Learner', 'Hispanic/Latino',\n",
              "       'Native Hawaiian or Other Pacific Islander',\n",
              "       'Students with Disability', 'Total Population',\n",
              "       'Two or more races', 'White'], dtype=object)"
            ]
          },
          "metadata": {
            "tags": []
          },
          "execution_count": 14
        }
      ]
    },
    {
      "cell_type": "code",
      "metadata": {
        "id": "L1-SwRhiBEYx"
      },
      "source": [
        "# the names are too long for charts\n",
        "leap15st = leap15st.replace(to_replace = ['American Indian or Alaska Native', 'Asian', 'Black or African American', 'Economically Disadvantaged', 'English Learner', 'Hispanic/Latino', 'Native Hawaiian or Other Pacific Islander', 'Students with Disability', 'Total Population', 'Two or more races', 'White'], \n",
        "                            value = ['AI/AN','AS', 'BK', 'ED', 'ELL', 'HL', 'NH/PI', 'Dis', 'TotPop', 'MR', 'WH'])"
      ],
      "execution_count": 15,
      "outputs": []
    },
    {
      "cell_type": "code",
      "metadata": {
        "id": "oUTHeRv-JNtK"
      },
      "source": [
        "import seaborn as sns\n",
        "import matplotlib.pyplot as plt\n",
        "%matplotlib inline\n",
        "sns.set(color_codes=True)"
      ],
      "execution_count": 16,
      "outputs": []
    },
    {
      "cell_type": "code",
      "metadata": {
        "colab": {
          "base_uri": "https://localhost:8080/",
          "height": 1000
        },
        "id": "9Sz1Yjw2BZVV",
        "outputId": "018ff728-2858-4f0c-8490-a24e49658490"
      },
      "source": [
        "sns.lmplot(\"Grade\", \"ELAMastery\", data=leap15st, hue=\"Subgroup\", fit_reg=False, col='Subgroup', col_wrap=2);"
      ],
      "execution_count": 17,
      "outputs": [
        {
          "output_type": "stream",
          "text": [
            "/usr/local/lib/python3.7/dist-packages/seaborn/_decorators.py:43: FutureWarning: Pass the following variables as keyword args: x, y. From version 0.12, the only valid positional argument will be `data`, and passing other arguments without an explicit keyword will result in an error or misinterpretation.\n",
            "  FutureWarning\n"
          ],
          "name": "stderr"
        },
        {
          "output_type": "display_data",
          "data": {
            "image/png": "[encoded data removed]",
            "text/plain": [
              "<Figure size 720x2160 with 11 Axes>"
            ]
          },
          "metadata": {
            "tags": []
          }
        }
      ]
    },
    {
      "cell_type": "markdown",
      "metadata": {
        "id": "WMBDLs7ek3QJ"
      },
      "source": [
        "These graphs are not super useful if you can't compare the data easily. Need to plot them all together."
      ]
    },
    {
      "cell_type": "code",
      "metadata": {
        "id": "pn_mSHQhGWfR"
      },
      "source": [
        "# get rid of extra Columns to make visualization easier\n",
        "leap15vis = leap15st.drop(columns = ['SchoolSystemName', 'ELABasic',\t'ELAApproachingBasic',\t'ELAUnsatisfactory',\n",
        "                                     'MathBasic',\t'MathApproachingBasic',\t'MathUnsatisfactory'])\n",
        "#leap15vis.head(20)\n",
        "\n",
        "# separate out racial data from other categories\n",
        "# race categories\n",
        "leap15Race = leap15vis[(leap15vis.Subgroup == 'TotPop') | (leap15vis.Subgroup == 'AI/AN') | (leap15vis.Subgroup == 'AS') | (leap15vis.Subgroup == 'BK') | (leap15vis.Subgroup == 'HL') | (leap15vis.Subgroup == 'MR') | (leap15vis.Subgroup == 'NH/PI') | (leap15vis.Subgroup == 'WH')]\n",
        "\n",
        "# other categories\n",
        "leap15Cat = leap15vis[(leap15vis.Subgroup == 'TotPop') | (leap15vis.Subgroup == 'ED') | (leap15vis.Subgroup == 'Dis') | (leap15vis.Subgroup == 'ELL')]"
      ],
      "execution_count": 18,
      "outputs": []
    },
    {
      "cell_type": "markdown",
      "metadata": {
        "id": "4iWWqhduIgYo"
      },
      "source": [
        "# ELA % Mastery Socre Distributions by Subgroups"
      ]
    },
    {
      "cell_type": "code",
      "metadata": {
        "colab": {
          "base_uri": "https://localhost:8080/",
          "height": 285
        },
        "id": "HO8SRJP2JOF9",
        "outputId": "7d8693b3-3418-4000-8028-823765ef41b4"
      },
      "source": [
        "'''\n",
        "Subgroup abbreviations key:\n",
        "Dis = Students with a disability\n",
        "ED = Economically Disadvantaged\n",
        "ELL = English Language Learners\n",
        "TotPop = Total Population\n",
        "'''\n",
        "\n",
        "sns.kdeplot(data=leap15Cat, x=\"ELAMastery\", hue=\"Subgroup\", multiple=\"stack\");"
      ],
      "execution_count": 19,
      "outputs": [
        {
          "output_type": "display_data",
          "data": {
            "image/png": "[encoded data removed]",
            "text/plain": [
              "<Figure size 432x288 with 1 Axes>"
            ]
          },
          "metadata": {
            "tags": []
          }
        }
      ]
    },
    {
      "cell_type": "code",
      "metadata": {
        "colab": {
          "base_uri": "https://localhost:8080/",
          "height": 285
        },
        "id": "QbdTE4yVDQWA",
        "outputId": "77ad293c-1fc6-4ece-dd14-f6ce1afa0f89"
      },
      "source": [
        "'''\n",
        "Subgroup abbreviations key:\n",
        "AI/AN = American Indian or Alaskan Native\n",
        "AS = Asian\n",
        "BK = Black or Affican American\n",
        "HL = Hispanic or Latino\n",
        "NH/PI = Native Hawaiian or Pacific Islander\n",
        "TotPop = Total Population\n",
        "MR = Multi-race\n",
        "WH = White\n",
        "'''\n",
        "sns.kdeplot(data=leap15Race, x=\"ELAMastery\", hue=\"Subgroup\", multiple=\"stack\");"
      ],
      "execution_count": 20,
      "outputs": [
        {
          "output_type": "display_data",
          "data": {
            "image/png": "[encoded data removed]",
            "text/plain": [
              "<Figure size 432x288 with 1 Axes>"
            ]
          },
          "metadata": {
            "tags": []
          }
        }
      ]
    },
    {
      "cell_type": "markdown",
      "metadata": {
        "id": "QnJrBHYh-eD4"
      },
      "source": [
        "## Distribution Plot Discussion & Conclusions\n",
        "### ELA Mastery by Subgroup Categories\n",
        "\n",
        "Compared to the distrubution of the Total Population, the greatest disparities are evident in the English Language Learners and the Students with disabilities, which both have peaks centered below 10% and shoulders below 15%. The ELL appears bimodal with a second peak rising below 30%, which might indicate different language groups have different success with the ELA LEAP exam. Unfortunately, the state does not provide information about further breakdown of that category. Total Population distribution is centered around 35% with a shoulder around 30%.\n",
        "\n",
        "Some options for further investigation: (1) Determine the groups that make up the bulk of the two ELL peaks and target policies to furhter support the students in the lower peak specifically; (2) Examine the change in the ELL-TotPop gap over time and compare to the change in population of the students over the same time frame to identify the student supports that most affect the impovement of scores; (3) Identify the policies supporting ELA for students with disabilities and revamp or create new supports as needed (perhaps with help of a similar time series from point 2).\n",
        "\n",
        "### ELA Mastery by Racial Subgroups\n",
        "\n",
        "Many races show a multi-modal distribution of scores (e.g. NH/PI, AI/AN, etc...) indicating that ELA mastery is impacted by more than just racial variables. The primary peak for BK students (centered at ~25% aith a shoulder at 20%) shows the greatest separation from the total population (centered at ~35%). The multi-modal nature of the racial subgroups also means that analyzing the gaps between performance by racial subgroups will be challenging to compare and inteterpret. A look at the gaps from some of these subgroups compared to the total poulation will need to include standard error of the mean to account for the differences in population sizes (as indicated by the peak height differences in these stacked charts).\n",
        "\n",
        "Some options for further investigation: (1) Time series comparison for all of these differences is important to look at to point towards causal relaptionships to implemented educational policies that affect standardized test performance; (2) Potential for Principle Component Analysis to determine the number of variables that significantly affect the score data for each subgroup."
      ]
    },
    {
      "cell_type": "markdown",
      "metadata": {
        "id": "b5l2aCJiIu9u"
      },
      "source": [
        "# Math % Mastery Socre Distributions by Subgroups"
      ]
    },
    {
      "cell_type": "code",
      "metadata": {
        "colab": {
          "base_uri": "https://localhost:8080/",
          "height": 288
        },
        "id": "I9QM79V4I7qK",
        "outputId": "68865097-9505-40ef-ace0-0ebe7cff66d1"
      },
      "source": [
        "'''\n",
        "Subgroup abbreviations key:\n",
        "Dis = Students with a disability\n",
        "ED = Economically Disadvantaged\n",
        "ELL = English Language Learners\n",
        "TotPop = Total Population\n",
        "'''\n",
        "\n",
        "sns.kdeplot(data=leap15Cat, x=\"MathMastery\", hue=\"Subgroup\", multiple=\"stack\");"
      ],
      "execution_count": 21,
      "outputs": [
        {
          "output_type": "display_data",
          "data": {
            "image/png": "[encoded data removed]",
            "text/plain": [
              "<Figure size 432x288 with 1 Axes>"
            ]
          },
          "metadata": {
            "tags": []
          }
        }
      ]
    },
    {
      "cell_type": "code",
      "metadata": {
        "colab": {
          "base_uri": "https://localhost:8080/",
          "height": 285
        },
        "id": "K2PH24K1JIAD",
        "outputId": "b73a30e2-af19-40cb-d34e-7d84d1f299ba"
      },
      "source": [
        "'''\n",
        "Subgroup abbreviations key:\n",
        "AI/AN = American Indian or Alaskan Native\n",
        "AS = Asian\n",
        "BK = Black or Affican American\n",
        "HL = Hispanic or Latino\n",
        "NH/PI = Native Hawaiian or Pacific Islander\n",
        "TotPop = Total Population\n",
        "MR = Multi-race\n",
        "WH = White\n",
        "'''\n",
        "sns.kdeplot(data=leap15Race, x=\"MathMastery\", hue=\"Subgroup\", multiple=\"stack\");"
      ],
      "execution_count": 22,
      "outputs": [
        {
          "output_type": "display_data",
          "data": {
            "image/png": "[encoded data removed]",
            "text/plain": [
              "<Figure size 432x288 with 1 Axes>"
            ]
          },
          "metadata": {
            "tags": []
          }
        }
      ]
    },
    {
      "cell_type": "markdown",
      "metadata": {
        "id": "PGfT-fhWU7Pn"
      },
      "source": [
        "## Distribution Plot Discussion & Conclusions\n",
        "### Math Mastery by Racial Subgroups\n",
        "\n",
        "*   AS appears bimodal\n",
        "*   AI/AN & HL centered at ~30%; AI/AN shows a shoulder ~23%\n",
        "*   NH/PI, HL, and AI/AN all centered below TotPop\n",
        "*   AS, MR, and WH all centered above TotPop\n",
        "\n",
        "### Math Mastery by Other Demographic Categories\n",
        "\n",
        "*   ELL and Dis are both bimodal with peaks at ~7% broader peaks at ~25%\n",
        "*   ED is a broader peak at ~22% with a shoulder below 10%\n",
        "*   TotPop is a broad peak centered ~27%"
      ]
    },
    {
      "cell_type": "markdown",
      "metadata": {
        "id": "qSKTKuAtUnRn"
      },
      "source": [
        "## Visualizing All Mastery Scores: Box and Whisker Plots\n",
        "\n",
        "Noramlly, these types of plots would be used to visualize outliers, but since this is not experimental data, there is no basis for eliminating data points. Some later years do include some \"outliers\". I'm leaving these plots in, but I will not be excluding mathematical \"outliers.\""
      ]
    },
    {
      "cell_type": "code",
      "metadata": {
        "colab": {
          "base_uri": "https://localhost:8080/",
          "height": 285
        },
        "id": "_PGVY45ISpnk",
        "outputId": "2140a4fd-03d6-4304-a48b-9b36b9312a8f"
      },
      "source": [
        "# Check for outliers in Math Mastery data\n",
        "sns.boxplot(x=leap15st['MathMastery']);"
      ],
      "execution_count": 23,
      "outputs": [
        {
          "output_type": "display_data",
          "data": {
            "image/png": "[encoded data removed]",
            "text/plain": [
              "<Figure size 432x288 with 1 Axes>"
            ]
          },
          "metadata": {
            "tags": []
          }
        }
      ]
    },
    {
      "cell_type": "code",
      "metadata": {
        "colab": {
          "base_uri": "https://localhost:8080/",
          "height": 285
        },
        "id": "MT488vHWy2Yg",
        "outputId": "419ba3de-c01c-44eb-b685-99fa91cef034"
      },
      "source": [
        "# Check for outliers in ELA Mastery data\n",
        "sns.boxplot(x=leap15st['ELAMastery']);"
      ],
      "execution_count": 24,
      "outputs": [
        {
          "output_type": "display_data",
          "data": {
            "image/png": "[encoded data removed]",
            "text/plain": [
              "<Figure size 432x288 with 1 Axes>"
            ]
          },
          "metadata": {
            "tags": []
          }
        }
      ]
    },
    {
      "cell_type": "markdown",
      "metadata": {
        "id": "RxfXW_rsf13E"
      },
      "source": [
        "# Calculating the Subgroup Gaps"
      ]
    },
    {
      "cell_type": "code",
      "metadata": {
        "id": "dw_sY3a9WCBO"
      },
      "source": [
        "# dropping the Advanced categories\n",
        "leap15vis = leap15vis.drop(columns = ['ELAAdvanced', 'MathAdvanced'])"
      ],
      "execution_count": 25,
      "outputs": []
    },
    {
      "cell_type": "code",
      "metadata": {
        "colab": {
          "base_uri": "https://localhost:8080/",
          "height": 359
        },
        "id": "MGbFwT-hjblu",
        "outputId": "05331da7-fe84-422c-e5b1-29dad26ced79"
      },
      "source": [
        "leap15vis.head(10)"
      ],
      "execution_count": 26,
      "outputs": [
        {
          "output_type": "execute_result",
          "data": {
            "text/html": [
              "<div>\n",
              "<style scoped>\n",
              "    .dataframe tbody tr th:only-of-type {\n",
              "        vertical-align: middle;\n",
              "    }\n",
              "\n",
              "    .dataframe tbody tr th {\n",
              "        vertical-align: top;\n",
              "    }\n",
              "\n",
              "    .dataframe thead th {\n",
              "        text-align: right;\n",
              "    }\n",
              "</style>\n",
              "<table border=\"1\" class=\"dataframe\">\n",
              "  <thead>\n",
              "    <tr style=\"text-align: right;\">\n",
              "      <th></th>\n",
              "      <th>Grade</th>\n",
              "      <th>Subgroup</th>\n",
              "      <th>ELAMastery</th>\n",
              "      <th>MathMastery</th>\n",
              "    </tr>\n",
              "  </thead>\n",
              "  <tbody>\n",
              "    <tr>\n",
              "      <th>0</th>\n",
              "      <td>3</td>\n",
              "      <td>AI/AN</td>\n",
              "      <td>35.0</td>\n",
              "      <td>29.0</td>\n",
              "    </tr>\n",
              "    <tr>\n",
              "      <th>1</th>\n",
              "      <td>3</td>\n",
              "      <td>AS</td>\n",
              "      <td>51.0</td>\n",
              "      <td>42.0</td>\n",
              "    </tr>\n",
              "    <tr>\n",
              "      <th>2</th>\n",
              "      <td>3</td>\n",
              "      <td>BK</td>\n",
              "      <td>24.0</td>\n",
              "      <td>22.0</td>\n",
              "    </tr>\n",
              "    <tr>\n",
              "      <th>3</th>\n",
              "      <td>3</td>\n",
              "      <td>ED</td>\n",
              "      <td>28.0</td>\n",
              "      <td>26.0</td>\n",
              "    </tr>\n",
              "    <tr>\n",
              "      <th>4</th>\n",
              "      <td>3</td>\n",
              "      <td>ELL</td>\n",
              "      <td>19.0</td>\n",
              "      <td>25.0</td>\n",
              "    </tr>\n",
              "    <tr>\n",
              "      <th>5</th>\n",
              "      <td>3</td>\n",
              "      <td>HL</td>\n",
              "      <td>29.0</td>\n",
              "      <td>30.0</td>\n",
              "    </tr>\n",
              "    <tr>\n",
              "      <th>6</th>\n",
              "      <td>3</td>\n",
              "      <td>NH/PI</td>\n",
              "      <td>36.0</td>\n",
              "      <td>33.0</td>\n",
              "    </tr>\n",
              "    <tr>\n",
              "      <th>7</th>\n",
              "      <td>3</td>\n",
              "      <td>Dis</td>\n",
              "      <td>15.0</td>\n",
              "      <td>17.0</td>\n",
              "    </tr>\n",
              "    <tr>\n",
              "      <th>8</th>\n",
              "      <td>3</td>\n",
              "      <td>TotPop</td>\n",
              "      <td>35.0</td>\n",
              "      <td>31.0</td>\n",
              "    </tr>\n",
              "    <tr>\n",
              "      <th>9</th>\n",
              "      <td>3</td>\n",
              "      <td>MR</td>\n",
              "      <td>39.0</td>\n",
              "      <td>33.0</td>\n",
              "    </tr>\n",
              "  </tbody>\n",
              "</table>\n",
              "</div>"
            ],
            "text/plain": [
              "   Grade Subgroup  ELAMastery  MathMastery\n",
              "0      3    AI/AN        35.0         29.0\n",
              "1      3       AS        51.0         42.0\n",
              "2      3       BK        24.0         22.0\n",
              "3      3       ED        28.0         26.0\n",
              "4      3      ELL        19.0         25.0\n",
              "5      3       HL        29.0         30.0\n",
              "6      3    NH/PI        36.0         33.0\n",
              "7      3      Dis        15.0         17.0\n",
              "8      3   TotPop        35.0         31.0\n",
              "9      3       MR        39.0         33.0"
            ]
          },
          "metadata": {
            "tags": []
          },
          "execution_count": 26
        }
      ]
    },
    {
      "cell_type": "code",
      "metadata": {
        "colab": {
          "base_uri": "https://localhost:8080/"
        },
        "id": "E6W7FmRWgA8g",
        "outputId": "2eaa18e7-1159-4987-b3ab-0e8a2d0b6518"
      },
      "source": [
        "# find the locations of the Total Populations for each grade\n",
        "print(leap15vis[leap15vis['Subgroup']=='TotPop'].index.values)"
      ],
      "execution_count": 27,
      "outputs": [
        {
          "output_type": "stream",
          "text": [
            "[ 8 19 30 41 52 63]\n"
          ],
          "name": "stdout"
        }
      ]
    },
    {
      "cell_type": "code",
      "metadata": {
        "colab": {
          "base_uri": "https://localhost:8080/",
          "height": 204
        },
        "id": "kqEK3vHkbDmm",
        "outputId": "cb338c06-d630-43bb-9ef1-9f89ecb2050b"
      },
      "source": [
        "conditions = [(leap15vis['Grade'] == 3),\n",
        "              (leap15vis['Grade'] == 4),\n",
        "              (leap15vis['Grade'] == 5),\n",
        "              (leap15vis['Grade'] == 6),\n",
        "              (leap15vis['Grade'] == 7),\n",
        "              (leap15vis['Grade'] == 8)]\n",
        "values = [(leap15vis['ELAMastery'] - leap15vis['ELAMastery'].loc[8]),\n",
        "          (leap15vis['ELAMastery'] - leap15vis['ELAMastery'].loc[19]),\n",
        "          (leap15vis['ELAMastery'] - leap15vis['ELAMastery'].loc[30]),\n",
        "          (leap15vis['ELAMastery'] - leap15vis['ELAMastery'].loc[41]),\n",
        "          (leap15vis['ELAMastery'] - leap15vis['ELAMastery'].loc[52]),\n",
        "          (leap15vis['ELAMastery'] - leap15vis['ELAMastery'].loc[63])]\n",
        "leap15vis['ELA-Gap'] = np.select(conditions, values)\n",
        "leap15vis.head()"
      ],
      "execution_count": 28,
      "outputs": [
        {
          "output_type": "execute_result",
          "data": {
            "text/html": [
              "<div>\n",
              "<style scoped>\n",
              "    .dataframe tbody tr th:only-of-type {\n",
              "        vertical-align: middle;\n",
              "    }\n",
              "\n",
              "    .dataframe tbody tr th {\n",
              "        vertical-align: top;\n",
              "    }\n",
              "\n",
              "    .dataframe thead th {\n",
              "        text-align: right;\n",
              "    }\n",
              "</style>\n",
              "<table border=\"1\" class=\"dataframe\">\n",
              "  <thead>\n",
              "    <tr style=\"text-align: right;\">\n",
              "      <th></th>\n",
              "      <th>Grade</th>\n",
              "      <th>Subgroup</th>\n",
              "      <th>ELAMastery</th>\n",
              "      <th>MathMastery</th>\n",
              "      <th>ELA-Gap</th>\n",
              "    </tr>\n",
              "  </thead>\n",
              "  <tbody>\n",
              "    <tr>\n",
              "      <th>0</th>\n",
              "      <td>3</td>\n",
              "      <td>AI/AN</td>\n",
              "      <td>35.0</td>\n",
              "      <td>29.0</td>\n",
              "      <td>0.0</td>\n",
              "    </tr>\n",
              "    <tr>\n",
              "      <th>1</th>\n",
              "      <td>3</td>\n",
              "      <td>AS</td>\n",
              "      <td>51.0</td>\n",
              "      <td>42.0</td>\n",
              "      <td>16.0</td>\n",
              "    </tr>\n",
              "    <tr>\n",
              "      <th>2</th>\n",
              "      <td>3</td>\n",
              "      <td>BK</td>\n",
              "      <td>24.0</td>\n",
              "      <td>22.0</td>\n",
              "      <td>-11.0</td>\n",
              "    </tr>\n",
              "    <tr>\n",
              "      <th>3</th>\n",
              "      <td>3</td>\n",
              "      <td>ED</td>\n",
              "      <td>28.0</td>\n",
              "      <td>26.0</td>\n",
              "      <td>-7.0</td>\n",
              "    </tr>\n",
              "    <tr>\n",
              "      <th>4</th>\n",
              "      <td>3</td>\n",
              "      <td>ELL</td>\n",
              "      <td>19.0</td>\n",
              "      <td>25.0</td>\n",
              "      <td>-16.0</td>\n",
              "    </tr>\n",
              "  </tbody>\n",
              "</table>\n",
              "</div>"
            ],
            "text/plain": [
              "   Grade Subgroup  ELAMastery  MathMastery  ELA-Gap\n",
              "0      3    AI/AN        35.0         29.0      0.0\n",
              "1      3       AS        51.0         42.0     16.0\n",
              "2      3       BK        24.0         22.0    -11.0\n",
              "3      3       ED        28.0         26.0     -7.0\n",
              "4      3      ELL        19.0         25.0    -16.0"
            ]
          },
          "metadata": {
            "tags": []
          },
          "execution_count": 28
        }
      ]
    },
    {
      "cell_type": "code",
      "metadata": {
        "colab": {
          "base_uri": "https://localhost:8080/",
          "height": 204
        },
        "id": "NKpBFyKrkIPy",
        "outputId": "b9ef5908-7d05-4125-e683-c529f593efb4"
      },
      "source": [
        "conditions = [(leap15vis['Grade'] == 3),\n",
        "              (leap15vis['Grade'] == 4),\n",
        "              (leap15vis['Grade'] == 5),\n",
        "              (leap15vis['Grade'] == 6),\n",
        "              (leap15vis['Grade'] == 7),\n",
        "              (leap15vis['Grade'] == 8)]\n",
        "values = [(leap15vis['MathMastery'] - leap15vis['MathMastery'].loc[8]),\n",
        "          (leap15vis['MathMastery'] - leap15vis['MathMastery'].loc[19]),\n",
        "          (leap15vis['MathMastery'] - leap15vis['MathMastery'].loc[30]),\n",
        "          (leap15vis['MathMastery'] - leap15vis['MathMastery'].loc[41]),\n",
        "          (leap15vis['MathMastery'] - leap15vis['MathMastery'].loc[52]),\n",
        "          (leap15vis['MathMastery'] - leap15vis['MathMastery'].loc[63])]\n",
        "leap15vis['Math-Gap'] = np.select(conditions, values)\n",
        "leap15vis.head()"
      ],
      "execution_count": 29,
      "outputs": [
        {
          "output_type": "execute_result",
          "data": {
            "text/html": [
              "<div>\n",
              "<style scoped>\n",
              "    .dataframe tbody tr th:only-of-type {\n",
              "        vertical-align: middle;\n",
              "    }\n",
              "\n",
              "    .dataframe tbody tr th {\n",
              "        vertical-align: top;\n",
              "    }\n",
              "\n",
              "    .dataframe thead th {\n",
              "        text-align: right;\n",
              "    }\n",
              "</style>\n",
              "<table border=\"1\" class=\"dataframe\">\n",
              "  <thead>\n",
              "    <tr style=\"text-align: right;\">\n",
              "      <th></th>\n",
              "      <th>Grade</th>\n",
              "      <th>Subgroup</th>\n",
              "      <th>ELAMastery</th>\n",
              "      <th>MathMastery</th>\n",
              "      <th>ELA-Gap</th>\n",
              "      <th>Math-Gap</th>\n",
              "    </tr>\n",
              "  </thead>\n",
              "  <tbody>\n",
              "    <tr>\n",
              "      <th>0</th>\n",
              "      <td>3</td>\n",
              "      <td>AI/AN</td>\n",
              "      <td>35.0</td>\n",
              "      <td>29.0</td>\n",
              "      <td>0.0</td>\n",
              "      <td>-2.0</td>\n",
              "    </tr>\n",
              "    <tr>\n",
              "      <th>1</th>\n",
              "      <td>3</td>\n",
              "      <td>AS</td>\n",
              "      <td>51.0</td>\n",
              "      <td>42.0</td>\n",
              "      <td>16.0</td>\n",
              "      <td>11.0</td>\n",
              "    </tr>\n",
              "    <tr>\n",
              "      <th>2</th>\n",
              "      <td>3</td>\n",
              "      <td>BK</td>\n",
              "      <td>24.0</td>\n",
              "      <td>22.0</td>\n",
              "      <td>-11.0</td>\n",
              "      <td>-9.0</td>\n",
              "    </tr>\n",
              "    <tr>\n",
              "      <th>3</th>\n",
              "      <td>3</td>\n",
              "      <td>ED</td>\n",
              "      <td>28.0</td>\n",
              "      <td>26.0</td>\n",
              "      <td>-7.0</td>\n",
              "      <td>-5.0</td>\n",
              "    </tr>\n",
              "    <tr>\n",
              "      <th>4</th>\n",
              "      <td>3</td>\n",
              "      <td>ELL</td>\n",
              "      <td>19.0</td>\n",
              "      <td>25.0</td>\n",
              "      <td>-16.0</td>\n",
              "      <td>-6.0</td>\n",
              "    </tr>\n",
              "  </tbody>\n",
              "</table>\n",
              "</div>"
            ],
            "text/plain": [
              "   Grade Subgroup  ELAMastery  MathMastery  ELA-Gap  Math-Gap\n",
              "0      3    AI/AN        35.0         29.0      0.0      -2.0\n",
              "1      3       AS        51.0         42.0     16.0      11.0\n",
              "2      3       BK        24.0         22.0    -11.0      -9.0\n",
              "3      3       ED        28.0         26.0     -7.0      -5.0\n",
              "4      3      ELL        19.0         25.0    -16.0      -6.0"
            ]
          },
          "metadata": {
            "tags": []
          },
          "execution_count": 29
        }
      ]
    },
    {
      "cell_type": "code",
      "metadata": {
        "id": "Kf8cxfN-_4TA"
      },
      "source": [
        "#function to return the y values for a given grade and test\n",
        "def yVal(year, test, g):\n",
        "  \n",
        "  #determines which year's dataframe to use\n",
        "  if year == 2015:\n",
        "    df = leap15vis\n",
        "  elif year == 2016:\n",
        "    df = leap16vis\n",
        "  elif year == 2017:\n",
        "    df = leap17vis\n",
        "  elif year == 2018:\n",
        "    df = leap18vis\n",
        "  elif year == 2019:\n",
        "    df = leap19vis\n",
        "  else:\n",
        "    print(\"You must enter a valid year: 2016, 2017, 2018, or 2019\")\n",
        "\n",
        "  # creates a smaller Dataframe containing only grade g data\n",
        "  gdf = df[(df['Grade'] == g)]\n",
        "  if (test == 'ELA'):\n",
        "    yval = gdf['ELA-Gap'] #returns ELA-Gap values for grade g\n",
        "  elif (test == 'Math'):\n",
        "    yval = gdf['Math-Gap'] #returns Math-Gap values for grade g\n",
        "  else:\n",
        "    print(\"You must enter 'ELA' or 'Math'\") # returns an error message of the correct test name isn't given\n",
        "  return yval"
      ],
      "execution_count": 30,
      "outputs": []
    },
    {
      "cell_type": "code",
      "metadata": {
        "colab": {
          "base_uri": "https://localhost:8080/",
          "height": 355
        },
        "id": "CtRUPGhilKbZ",
        "outputId": "89639eb7-de84-4b70-f225-dce9c2c84187"
      },
      "source": [
        "# Plotting the Gaps\n",
        "\n",
        "# generating xvalues\n",
        "# use the same x for all y (the choice of grade 3 subgroup labels is arbitrary)\n",
        "g3 = leap15vis[(leap15vis['Grade'] == 3)]\n",
        "x = g3['Subgroup']\n",
        "\n",
        "#setting up the figure and axes\n",
        "fig, (ax1, ax2) = plt.subplots(1,2, sharex = True, sharey = True, figsize=(15,5), constrained_layout = True)\n",
        "fig.suptitle('LEAP % Mastery Scores by Subgroup');\n",
        "\n",
        "# ELA Plot Values & Parameters\n",
        "for g in range(3,9):\n",
        "  ax1.scatter(x, yVal(2015, 'ELA', g), label = ('Grade ' + str(g)));\n",
        "ax1.set(xlabel='Subgroups', ylabel='% Mastery');\n",
        "ax1.label_outer();\n",
        "ax1.set_title('ELA');\n",
        "ax1.axhline(y = 0, color = 'r', linestyle = '-');\n",
        "\n",
        "#Math Plot Values & Parameters\n",
        "for g in range(3,9):\n",
        "  ax2.scatter(x, yVal(2015, 'Math', g), label = ('Grade ' + str(g)));\n",
        "ax2.label_outer();\n",
        "ax2.set(xlabel='Subgroups');\n",
        "ax2.set_title('Math');\n",
        "ax2.axhline(y = 0, color = 'r', linestyle = '-');\n",
        "plt.legend(bbox_to_anchor=(1.05, 1));"
      ],
      "execution_count": 31,
      "outputs": [
        {
          "output_type": "display_data",
          "data": {
            "image/png": "[encoded data removed]",
            "text/plain": [
              "<Figure size 1080x360 with 2 Axes>"
            ]
          },
          "metadata": {
            "tags": []
          }
        }
      ]
    },
    {
      "cell_type": "markdown",
      "metadata": {
        "id": "ocX5hgcHbFj7"
      },
      "source": [
        "### Observations for both ELA-Gap and Math-Gap by Subgroups\n",
        "\n",
        "*   Groups with positive deviations (scores above the TotPop): AS, WH, MR\n",
        "*   Groups with negative deviations (scores below the TotPop): BK, ED, ELL, Dis\n",
        "*   Groups that span the zero line (some grades above and some grades below TotPop): AI/AN, NH/PI\n",
        "*   Highly clustered groups (e.g. BK, ED, WH) have very consistent perfromance within the subgroup compared to TotPop\n",
        "*   Subgroups with high spread (e.g. ELL, Dis, NH/PI) perform differently across grades when compared to TotPop\n",
        "*   Greatest gap (deviation from TotPop) in ELA, specifically in ELL and Dis subgroups"
      ]
    },
    {
      "cell_type": "markdown",
      "metadata": {
        "id": "Rfp9E7RAnhhJ"
      },
      "source": [
        "### Observations about the ELA-Gap by Subgroups\n",
        "\n",
        "*   Groups that span the zero line (some grades above and some grades below TotPop): AI/AN, NH/PI\n",
        "*   For ELL and Dis, 8th grade scores show the greatest diviation from TotPop and 3rd grade the least, indicating that the gaps widen over time\n",
        "*   For ED, the biggest deviation is in grade 5, but the data is tightly clustered so it could be within error?\n",
        "\n"
      ]
    },
    {
      "cell_type": "markdown",
      "metadata": {
        "id": "AV7CEUyUX1Y5"
      },
      "source": [
        "### Observations about the Math-Gap by Subgroups\n",
        "\n",
        "*   Groups that span the zero line (some grades above and some grades below TotPop): AI/AN, NH/PI, HL\n",
        "*   For ED, ELL, and Dis, 8th grade scores show the greatest diviation from TotPop and 3rd grade the least, indicating that the gaps widen over time"
      ]
    }
  ]
}